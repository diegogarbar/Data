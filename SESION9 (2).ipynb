{
  "nbformat": 4,
  "nbformat_minor": 0,
  "metadata": {
    "colab": {
      "provenance": []
    },
    "kernelspec": {
      "name": "python3",
      "display_name": "Python 3"
    },
    "language_info": {
      "name": "python"
    }
  },
  "cells": [
    {
      "cell_type": "markdown",
      "source": [
        "## Calidad de datos\n",
        "Es el proceso de evaluación y mantenimiento de la precisión, completitud, consistencia y validez de la información para garantizar su confiabilidad en el análisis y la toma de decisiones\n",
        "\n"
      ],
      "metadata": {
        "id": "YM8ZToMrE8SY"
      }
    },
    {
      "cell_type": "code",
      "execution_count": null,
      "metadata": {
        "colab": {
          "base_uri": "https://localhost:8080/"
        },
        "id": "54bzdwnLimxQ",
        "outputId": "cbe89ba1-f1da-4381-d757-b49dbe1509b8"
      },
      "outputs": [
        {
          "output_type": "stream",
          "name": "stdout",
          "text": [
            "     Producto   Precio Validación Precio\n",
            "0  Producto A  10000.0            Válido\n",
            "1  Producto B  -5000.0          Invalido\n",
            "2  Producto C      NaN          Invalido\n"
          ]
        }
      ],
      "source": [
        "import pandas as pd\n",
        "\n",
        "#Datos del dataframe\n",
        "datos = {'Producto': ['Producto A', 'Producto B', 'Producto C'],\n",
        "         'Precio': [10000, -5000, None]\n",
        "         }\n",
        "\n",
        "#Crear un dataframe\n",
        "df = pd.DataFrame(datos)\n",
        "df.head()\n",
        "#Funcion normal que los precios sean correctos\n",
        "def validar_precio(x):\n",
        "   if pd.notnull(x) and x>=0:\n",
        "     return 'Válido'\n",
        "   else:\n",
        "     return'Inválido'\n",
        "\n",
        "df['Validación Precio'] = df['Precio'].apply(validar_precio)\n",
        "\n",
        "#Función anonima\n",
        "df['Validación Precio'] = df['Precio'].apply(lambda x: 'Válido' if pd.notnull(x) and x >= 0 else 'Invalido' )\n",
        "\n",
        "print(df)"
      ]
    },
    {
      "cell_type": "markdown",
      "source": [
        "## Integridad de datos\n",
        "Es el principio que garantiza la exactitud y consistencia de la información almacenada en una base de datos, evitando errores y redundancias."
      ],
      "metadata": {
        "id": "5w6EmXoAnhJP"
      }
    },
    {
      "cell_type": "code",
      "source": [
        "#datos con duplicados\n",
        "clientes={'IDCliente':[1,2,2,3,2],\n",
        "          'Nombre':['Ana','Luis','Luis','Marta','Luis']}\n",
        "\n",
        "#Convertir mi diccionario en un dataframe\n",
        "df_clientes=pd.DataFrame(clientes)\n",
        "\n",
        "#Identificar los duplicados\n",
        "duplicados=df_clientes[df_clientes.duplicated('IDCliente', keep=\"first\")]\n",
        "total_duplicados= df_clientes.duplicated('IDCliente').sum()\n",
        "print(duplicados)\n",
        "print(f\"El total de registros duplicados en el dataframe es: \",total_duplicados)\n",
        "#df_clientes.head()"
      ],
      "metadata": {
        "colab": {
          "base_uri": "https://localhost:8080/"
        },
        "id": "i9GpMFAAnMQV",
        "outputId": "6daefb0e-8e43-4b47-aadb-fa47d7c8a9a3"
      },
      "execution_count": null,
      "outputs": [
        {
          "output_type": "stream",
          "name": "stdout",
          "text": [
            "   IDCliente Nombre\n",
            "2          2   Luis\n",
            "4          2   Luis\n",
            "El total de registros duplicados en el dataframe es:  2\n"
          ]
        }
      ]
    },
    {
      "cell_type": "markdown",
      "source": [
        "## Seguridad de datos\n",
        "Es el conjunto de medidas que protegen la información contra accesos no autorizados o alteraciones, garantizando su confidencialidad e integridad."
      ],
      "metadata": {
        "id": "_gFK_C_aolel"
      }
    },
    {
      "cell_type": "code",
      "source": [
        "from cryptography.fernet import Fernet\n",
        "\n",
        "# Generar una clave de cifrado aleatoria\n",
        "key = Fernet.generate_key()\n",
        "\n",
        "# Crear un objeto Fernet utilizando la clave generada\n",
        "cipher_suite = Fernet(key)\n",
        "\n",
        "# Definir los datos sensibles a proteger\n",
        "datos_sensibles = \"1234-5678-91011121\".encode()\n",
        "\n",
        "# Ciframos los datos\n",
        "datos_encriptados = cipher_suite.encrypt(datos_sensibles)\n",
        "\n",
        "# Desencriptar los datos cifrados\n",
        "datos_desencriptados = cipher_suite.decrypt(datos_encriptados)\n",
        "\n",
        "# Mostrar los resultados\n",
        "print(key)\n",
        "print(\"Datos Encriptados:\", datos_encriptados)\n",
        "print(\"Datos Desencriptados:\", datos_desencriptados.decode())\n"
      ],
      "metadata": {
        "colab": {
          "base_uri": "https://localhost:8080/"
        },
        "id": "mVj4yXK9ohts",
        "outputId": "85fbe989-7824-4455-9aca-703d49239676"
      },
      "execution_count": null,
      "outputs": [
        {
          "output_type": "stream",
          "name": "stdout",
          "text": [
            "b'un0mJ4WwYg5BXWZH4vKyp1HPGGlIBtNAz7BS16ks2Jc='\n",
            "Datos Encriptados: b'gAAAAABn5E_kmgk_Pf2X-IuQdAFjr8HZlUFsMmzGzeek0UGgJlbw1encmwXDmfKSVFukKkHcGTZfy0XARwf6SIV_tIVyzdYIPfGk2wsYJfmcpkObGZgpw0E='\n",
            "Datos Desencriptados: 1234-5678-91011121\n"
          ]
        }
      ]
    },
    {
      "cell_type": "markdown",
      "source": [
        "**Trazabilidad y auditoría de datos**\n",
        "\n",
        "Rastrear el origen y modificación de los datos"
      ],
      "metadata": {
        "id": "Ab6Tv-5W1T-L"
      }
    },
    {
      "cell_type": "code",
      "source": [
        "import datetime, pytz\n",
        "from zoneinfo import ZoneInfo\n",
        "#Crear una lista vacia\n",
        "auditoria = []\n",
        "\n",
        "zona_horaria_colombia = ZoneInfo('America/Bogota')\n",
        "zona_horaria_colombia = pytz.timezone('America/Bogota')\n",
        "\n",
        "#Crear una función para tomar la hora de de la modificación y decir que cambio se realizo\n",
        "def registrar_auditoria(usuario, cambio):\n",
        "   hora = datetime.datetime.now(tz=zona_horaria_colombia).strftime(\"%Y-%m-%d %H:%M:%S\")\n",
        "   auditoria.append({'Usuario': usuario, 'Cambio': cambio, 'Hora': hora})\n",
        "\n",
        "#Usamos la función registrar auditoria\n",
        "registrar_auditoria('usuario1', 'Actualización de precio en Producto A')\n",
        "registrar_auditoria('usuario2', 'Eliminación de Producto B')\n",
        "print(auditoria)"
      ],
      "metadata": {
        "colab": {
          "base_uri": "https://localhost:8080/"
        },
        "id": "tmJA4BywpJBs",
        "outputId": "d18860ec-883b-4615-bc20-f355c1c1ed33"
      },
      "execution_count": null,
      "outputs": [
        {
          "output_type": "stream",
          "name": "stdout",
          "text": [
            "[{'Usuario': 'usuario1', 'Cambio': 'Actualización de precio en Producto A', 'Hora': '2025-03-26 14:09:29'}, {'Usuario': 'usuario2', 'Cambio': 'Eliminación de Producto B', 'Hora': '2025-03-26 14:09:29'}]\n"
          ]
        }
      ]
    },
    {
      "cell_type": "markdown",
      "source": [
        "**Backups y Recuperación**\n",
        "Realizar copias de seguridad es importante para prevenir pérdidas en caso de fallas o incidentes."
      ],
      "metadata": {
        "id": "DcS0B4p3p0cz"
      }
    },
    {
      "cell_type": "code",
      "source": [
        "#Ejemplo conceptual para guardar un backup de un Dataframe\n",
        "df.to_csv('backup_ventas.csv')\n",
        "'backup_ventas.csv'"
      ],
      "metadata": {
        "colab": {
          "base_uri": "https://localhost:8080/",
          "height": 35
        },
        "id": "0CZvLfVBpxGA",
        "outputId": "66026952-ec43-44bb-8b2b-3afc208e2cb9"
      },
      "execution_count": null,
      "outputs": [
        {
          "output_type": "execute_result",
          "data": {
            "text/plain": [
              "'backup_ventas.csv'"
            ],
            "application/vnd.google.colaboratory.intrinsic+json": {
              "type": "string"
            }
          },
          "metadata": {},
          "execution_count": 10
        }
      ]
    },
    {
      "cell_type": "markdown",
      "source": [
        "#Ejemplo"
      ],
      "metadata": {
        "id": "eXcjBsGy1ewh"
      }
    },
    {
      "cell_type": "code",
      "source": [
        "import pandas as pd\n",
        "\n",
        "#Datosoriginales\n",
        "data={'Nombre':['Juan','Ana','Pedro','María','Luis','Carla','José', 'Patricia','Raúl','Sergio',\n",
        "                'Manuel','Camila','Rosa','Pablo','Julia','Diana','Tomás', 'Elisa','Mario','Clara'],\n",
        "\n",
        "      'Edad':[28,34,None,45,38,34,42,None,31,29,40,33,None,39,36,None,41,25,37,44],\n",
        "\n",
        "      'Salario':['3000','4000','4500','cincomil','5000','4000','6000','4500',None,'3200',\n",
        "                 '7000',None,'4700',None,'5200','cincomil','6800',None,'5100','5400'],\n",
        "\n",
        "      'Puesto':['Analista','Gerente',None,'Gerente','Analista','Desarrollador','Ingeniero',\n",
        "                'Gerente','Analista','Ingeniero','Director','Gerente','Ingeniero','Analista','Director',\n",
        "                'Analista','Ingeniero','Desarrollador','Analista','Gerente'],\n",
        "\n",
        "      'FechaIngreso': ['2021-01-15', '2020/03/12', '2022-07-01', '2021/12/01', None, '2020-03-12','2021-06-15',\n",
        "                       '2019/09/25', '2022/01/10',None, '2018-08-22', '2020/02/15', '2021/05/30', '2019-12-15',\n",
        "                       '2018/05/25','2020-01-12','2021-10-25','2022/04/14',None,'2019/11/21']}\n",
        "\n",
        "df=pd.DataFrame(data)\n",
        "print(df)"
      ],
      "metadata": {
        "id": "KaZ_zJyir7Hb",
        "colab": {
          "base_uri": "https://localhost:8080/"
        },
        "outputId": "c10a593a-a1f1-4f3d-82f8-e86936b49358"
      },
      "execution_count": null,
      "outputs": [
        {
          "output_type": "stream",
          "name": "stdout",
          "text": [
            "      Nombre  Edad   Salario         Puesto FechaIngreso\n",
            "0       Juan  28.0      3000       Analista   2021-01-15\n",
            "1        Ana  34.0      4000        Gerente   2020/03/12\n",
            "2      Pedro   NaN      4500           None   2022-07-01\n",
            "3      María  45.0  cincomil        Gerente   2021/12/01\n",
            "4       Luis  38.0      5000       Analista         None\n",
            "5      Carla  34.0      4000  Desarrollador   2020-03-12\n",
            "6       José  42.0      6000      Ingeniero   2021-06-15\n",
            "7   Patricia   NaN      4500        Gerente   2019/09/25\n",
            "8       Raúl  31.0      None       Analista   2022/01/10\n",
            "9     Sergio  29.0      3200      Ingeniero         None\n",
            "10    Manuel  40.0      7000       Director   2018-08-22\n",
            "11    Camila  33.0      None        Gerente   2020/02/15\n",
            "12      Rosa   NaN      4700      Ingeniero   2021/05/30\n",
            "13     Pablo  39.0      None       Analista   2019-12-15\n",
            "14     Julia  36.0      5200       Director   2018/05/25\n",
            "15     Diana   NaN  cincomil       Analista   2020-01-12\n",
            "16     Tomás  41.0      6800      Ingeniero   2021-10-25\n",
            "17     Elisa  25.0      None  Desarrollador   2022/04/14\n",
            "18     Mario  37.0      5100       Analista         None\n",
            "19     Clara  44.0      5400        Gerente   2019/11/21\n"
          ]
        }
      ]
    },
    {
      "cell_type": "markdown",
      "source": [
        "#### Paso 1: Identificar y contar valores faltantes  \n"
      ],
      "metadata": {
        "id": "K2n8MP9Uod85"
      }
    },
    {
      "cell_type": "code",
      "source": [
        "#Sumar los valores faltantes\n",
        "valores_faltantes = df.isnull().sum()\n",
        "\n",
        "#Mostrar datos\n",
        "print(\"Valores faltantes por columna:\")\n",
        "print(valores_faltantes)"
      ],
      "metadata": {
        "colab": {
          "base_uri": "https://localhost:8080/"
        },
        "id": "x7ClmOXIonVF",
        "outputId": "a83e5a0c-3174-411a-c512-f3b66986d34d"
      },
      "execution_count": null,
      "outputs": [
        {
          "output_type": "stream",
          "name": "stdout",
          "text": [
            "Valores faltantes por columna:\n",
            "Nombre          0\n",
            "Edad            4\n",
            "Salario         4\n",
            "Puesto          0\n",
            "FechaIngreso    3\n",
            "dtype: int64\n"
          ]
        }
      ]
    },
    {
      "cell_type": "markdown",
      "source": [
        "#### Paso 2: Verificar el formato de 'Salario'"
      ],
      "metadata": {
        "id": "DF1PLQAclU3X"
      }
    },
    {
      "cell_type": "code",
      "source": [
        "# Primero, reemplazamos los valores None con una cadena vacía para poder procesarlos\n",
        "df['Salario'] = df['Salario'].fillna('')\n",
        "\n",
        "# Verificar formato de 'Salario'\n",
        "salarios_incorrectos = df[~df['Salario'].str.replace('[^0-9]', '', regex=True).str.isdigit()]\n",
        "\n",
        "#Mostrar datos\n",
        "print(\"\\nSalarios con formato incorrecto:\")\n",
        "print(salarios_incorrectos)"
      ],
      "metadata": {
        "colab": {
          "base_uri": "https://localhost:8080/"
        },
        "id": "bbOAKs_BlV5Y",
        "outputId": "bd14fa92-9556-496c-8c53-c062ace664d5"
      },
      "execution_count": null,
      "outputs": [
        {
          "output_type": "stream",
          "name": "stdout",
          "text": [
            "\n",
            "Salarios con formato incorrecto:\n",
            "    Nombre  Edad   Salario         Puesto FechaIngreso\n",
            "3    María  45.0  cincomil        Gerente   2021/12/01\n",
            "8     Raúl  31.0                 Analista   2022/01/10\n",
            "11  Camila  33.0                  Gerente   2020/02/15\n",
            "13   Pablo  39.0                 Analista   2019-12-15\n",
            "15   Diana   NaN  cincomil       Analista   2020-01-12\n",
            "17   Elisa  25.0            Desarrollador   2022/04/14\n"
          ]
        }
      ]
    },
    {
      "cell_type": "markdown",
      "source": [
        "#### Paso 3: Validar y estandarizar 'FechaIngreso' a formato YYYY-MM-DD"
      ],
      "metadata": {
        "id": "KSIblDq3lew9"
      }
    },
    {
      "cell_type": "code",
      "source": [
        "#convertir FechaIngreso a tipo datetime\n",
        "df['FechaIngreso']= pd.to_datetime(df['FechaIngreso'], errors='coerce', format='%Y-%m-%d')\n",
        "\n",
        "#Mostrar datos\n",
        "print(\"\\nDatos después de estandarizar 'FechaIngreso':\")\n",
        "print(df['FechaIngreso'])"
      ],
      "metadata": {
        "colab": {
          "base_uri": "https://localhost:8080/"
        },
        "id": "AvRh1vlroFmL",
        "outputId": "b9d2010a-f00e-4a5c-ab7c-c925c46fd193"
      },
      "execution_count": null,
      "outputs": [
        {
          "output_type": "stream",
          "name": "stdout",
          "text": [
            "\n",
            "Datos después de estandarizar 'FechaIngreso':\n",
            "0    2021-01-15\n",
            "1           NaT\n",
            "2    2022-07-01\n",
            "3           NaT\n",
            "4           NaT\n",
            "5    2020-03-12\n",
            "6    2021-06-15\n",
            "7           NaT\n",
            "8           NaT\n",
            "9           NaT\n",
            "10   2018-08-22\n",
            "11          NaT\n",
            "12          NaT\n",
            "13   2019-12-15\n",
            "14          NaT\n",
            "15   2020-01-12\n",
            "16   2021-10-25\n",
            "17          NaT\n",
            "18          NaT\n",
            "19          NaT\n",
            "Name: FechaIngreso, dtype: datetime64[ns]\n"
          ]
        }
      ]
    },
    {
      "cell_type": "markdown",
      "source": [
        "#### Paso 4: Verificar empleados con información faltante en \"Puesto\" y \"Salario\""
      ],
      "metadata": {
        "id": "IfCfDILOoIwd"
      }
    },
    {
      "cell_type": "code",
      "source": [
        "# Filtrar empleados con información faltante en 'Salario' o 'Puesto'\n",
        "empleados_faltantes = df[(df['Salario'] == '') | (df['Puesto'].isnull())]\n",
        "\n",
        "# Mostrar resultados\n",
        "print(\"\\nEmpleados con información faltante en 'Puesto' o 'Salario':\")\n",
        "print(empleados_faltantes)"
      ],
      "metadata": {
        "colab": {
          "base_uri": "https://localhost:8080/"
        },
        "id": "MLWL8zYEoRoh",
        "outputId": "25c82d60-5114-4ff4-e7d0-e5d543c78dd1"
      },
      "execution_count": null,
      "outputs": [
        {
          "output_type": "stream",
          "name": "stdout",
          "text": [
            "\n",
            "Empleados con información faltante en 'Puesto' o 'Salario':\n",
            "    Nombre  Edad Salario         Puesto FechaIngreso\n",
            "2    Pedro   NaN    4500           None   2022-07-01\n",
            "8     Raúl  31.0               Analista          NaT\n",
            "11  Camila  33.0                Gerente          NaT\n",
            "13   Pablo  39.0               Analista   2019-12-15\n",
            "17   Elisa  25.0          Desarrollador          NaT\n"
          ]
        }
      ]
    },
    {
      "cell_type": "markdown",
      "source": [
        "# Laboratorio"
      ],
      "metadata": {
        "id": "Jc5nwC-nUev9"
      }
    },
    {
      "cell_type": "markdown",
      "source": [
        "Cargar el dataframe del laba con Pandas y usar funciones isnull(), duplicated(), y\n",
        "value_counts() sobre la columna “City”."
      ],
      "metadata": {
        "id": "xRllgAxCUrhZ"
      }
    },
    {
      "cell_type": "code",
      "source": [
        "#Cargar el dataframe\n"
      ],
      "metadata": {
        "id": "_zeGXhd5UiJP"
      },
      "execution_count": null,
      "outputs": []
    },
    {
      "cell_type": "code",
      "source": [],
      "metadata": {
        "id": "1Esd78E7aWVS"
      },
      "execution_count": null,
      "outputs": []
    },
    {
      "cell_type": "code",
      "source": [],
      "metadata": {
        "id": "zolLNVuGaj68"
      },
      "execution_count": null,
      "outputs": []
    },
    {
      "cell_type": "code",
      "source": [],
      "metadata": {
        "id": "36DXDyEbZ8y2"
      },
      "execution_count": null,
      "outputs": []
    }
  ]
}